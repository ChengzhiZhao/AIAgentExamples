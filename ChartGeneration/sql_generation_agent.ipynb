{
 "cells": [
  {
   "cell_type": "markdown",
   "metadata": {},
   "source": [
    "## SQL Generation Agent with DuckDB"
   ]
  },
  {
   "cell_type": "code",
   "execution_count": 1,
   "metadata": {},
   "outputs": [],
   "source": [
    "import os"
   ]
  },
  {
   "cell_type": "code",
   "execution_count": 2,
   "metadata": {},
   "outputs": [],
   "source": [
    "os.environ[\"LANGCHAIN_API_KEY\"] = os.environ.get(\"LANGCHAIN_API_KEY\")\n",
    "os.environ[\"LANGCHAIN_TRACING_V2\"] = os.environ.get(\"LANGCHAIN_TRACING_V2\")\n",
    "os.environ[\"OPENAI_API_KEY\"] = os.environ.get(\"OPENAI_API_KEY\")\n"
   ]
  },
  {
   "cell_type": "markdown",
   "metadata": {},
   "source": [
    "### DuckDB Loader Example"
   ]
  },
  {
   "cell_type": "code",
   "execution_count": 3,
   "metadata": {},
   "outputs": [],
   "source": [
    "from langchain_community.document_loaders import DuckDBLoader"
   ]
  },
  {
   "cell_type": "markdown",
   "metadata": {},
   "source": [
    "### Build the SQL Generation Agent"
   ]
  },
  {
   "cell_type": "code",
   "execution_count": 25,
   "metadata": {},
   "outputs": [],
   "source": [
    "from typing_extensions import TypedDict\n",
    "\n",
    "global store\n",
    "store = InMemoryStore()\n",
    "class State(TypedDict):\n",
    "    question: str\n",
    "    query: str\n",
    "    result: str\n",
    "    answer: str\n",
    "    code: str"
   ]
  },
  {
   "cell_type": "code",
   "execution_count": 5,
   "metadata": {},
   "outputs": [],
   "source": [
    "from langchain_openai import ChatOpenAI\n",
    "llm = ChatOpenAI(model=\"gpt-4o\")"
   ]
  },
  {
   "cell_type": "code",
   "execution_count": 6,
   "metadata": {},
   "outputs": [
    {
     "name": "stdout",
     "output_type": "stream",
     "text": [
      "================================\u001b[1m System Message \u001b[0m================================\n",
      "\n",
      "Given an input question, create a syntactically correct \u001b[33;1m\u001b[1;3m{dialect}\u001b[0m query to run to help find the answer. Unless the user specifies in his question a specific number of examples they wish to obtain, always limit your query to at most \u001b[33;1m\u001b[1;3m{top_k}\u001b[0m results. You can order the results by a relevant column to return the most interesting examples in the database.\n",
      "\n",
      "Never query for all the columns from a specific table, only ask for a the few relevant columns given the question.\n",
      "\n",
      "Pay attention to use only the column names that you can see in the schema description. Be careful to not query for columns that do not exist. Also, pay attention to which column is in which table.\n",
      "\n",
      "Only use the following tables:\n",
      "\u001b[33;1m\u001b[1;3m{table_info}\u001b[0m\n",
      "\n",
      "Question: \u001b[33;1m\u001b[1;3m{input}\u001b[0m\n"
     ]
    }
   ],
   "source": [
    "from langchain import hub\n",
    "query_prompt_template = hub.pull(\"langchain-ai/sql-query-system-prompt\")\n",
    "assert len(query_prompt_template.messages) == 1\n",
    "query_prompt_template.messages[0].pretty_print()\n"
   ]
  },
  {
   "cell_type": "markdown",
   "metadata": {},
   "source": [
    "### Define Write Query"
   ]
  },
  {
   "cell_type": "code",
   "execution_count": 7,
   "metadata": {},
   "outputs": [],
   "source": [
    "from typing_extensions import Annotated\n",
    "\n",
    "\n",
    "class QueryOutput(TypedDict):\n",
    "    \"\"\"Generated SQL query.\"\"\"\n",
    "\n",
    "    query: Annotated[str, ..., \"Syntactically valid SQL query.\"]\n",
    "\n",
    "\n",
    "def write_query(state: State):\n",
    "\n",
    "    file_path = \"data/AB_NYC_2019.csv\"\n",
    "    \"\"\"Generate SQL query to fetch information.\"\"\"\n",
    "    prompt = query_prompt_template.invoke(\n",
    "        {\n",
    "            \"dialect\": \"duckdb\",\n",
    "            \"top_k\": 10,\n",
    "            \"table_info\": f\"read_csv_auto('{file_path}')\",\n",
    "            \"input\": state[\"question\"],\n",
    "        }\n",
    "    )\n",
    "    structured_llm = llm.with_structured_output(QueryOutput)\n",
    "    result = structured_llm.invoke(prompt)\n",
    "    return {\"query\": result[\"query\"]}"
   ]
  },
  {
   "cell_type": "code",
   "execution_count": 8,
   "metadata": {},
   "outputs": [],
   "source": [
    "def execute_query(state: State):\n",
    "    \"\"\"Execute SQL query.\"\"\"\n",
    "    data = DuckDBLoader(state[\"query\"]).load()\n",
    "    return {'result': data}"
   ]
  },
  {
   "cell_type": "code",
   "execution_count": 9,
   "metadata": {},
   "outputs": [],
   "source": [
    "def generate_answer(state: State):\n",
    "    \"\"\"Answer question using retrieved information as context.\"\"\"\n",
    "    prompt = (\n",
    "        \"Given the following user question, corresponding SQL query, \"\n",
    "        \"and SQL result, answer the user question.\\n\\n\"\n",
    "        f'Question: {state[\"question\"]}\\n'\n",
    "        f'SQL Query: {state[\"query\"]}\\n'\n",
    "        f'SQL Result: {state[\"result\"]}'\n",
    "    )\n",
    "    response = llm.invoke(prompt)\n",
    "    return {\"answer\": response.content}"
   ]
  },
  {
   "cell_type": "code",
   "execution_count": 19,
   "metadata": {},
   "outputs": [],
   "source": [
    "def write_code_for_chart(state: State):\n",
    "    \"\"\"Generate Python Code for Data Visualization \"\"\"\n",
    "    chart_type = store.mget(['chart_type'])[0]\n",
    "\n",
    "    prompt = (\n",
    "        \"Given the following user question, corresponding SQL query, \"\n",
    "        f\"and SQL result, build a python plotly script to with {chart_type} chart to show the data, return executable code only\\n\\n\"\n",
    "        f'Question: {state[\"question\"]}\\n'\n",
    "        f'SQL Query: {state[\"query\"]}\\n'\n",
    "        f'SQL Result: {state[\"result\"]}'\n",
    "    )\n",
    "    response = llm.invoke(prompt)\n",
    "    return {\"code\": response.content}"
   ]
  },
  {
   "cell_type": "code",
   "execution_count": 20,
   "metadata": {},
   "outputs": [],
   "source": [
    "def execute_python_code(state: State):\n",
    "    code = state[\"code\"]\n",
    "    code = code.replace(\"python\", \"\")\n",
    "    code = code.replace(\"```\", \"\")\n",
    "    exec(code)"
   ]
  },
  {
   "cell_type": "code",
   "execution_count": 21,
   "metadata": {},
   "outputs": [],
   "source": [
    "from langgraph.graph import START, StateGraph\n",
    "\n",
    "graph_builder = StateGraph(State).add_sequence(\n",
    "    [write_query, execute_query, generate_answer, write_code_for_chart, execute_python_code]\n",
    ")\n",
    "\n",
    "graph_builder.add_edge(START, \"write_query\")\n",
    "graph = graph_builder.compile()"
   ]
  },
  {
   "cell_type": "code",
   "execution_count": 22,
   "metadata": {},
   "outputs": [
    {
     "data": {
      "image/png": "[encoded data removed]",
      "text/plain": [
       "<IPython.core.display.Image object>"
      ]
     },
     "metadata": {},
     "output_type": "display_data"
    }
   ],
   "source": [
    "from IPython.display import Image, display\n",
    "\n",
    "display(Image(graph.get_graph().draw_mermaid_png()))"
   ]
  },
  {
   "cell_type": "code",
   "execution_count": 23,
   "metadata": {},
   "outputs": [],
   "source": [
    "from langchain.storage import InMemoryStore\n",
    "\n",
    "def llm_chart(question: str, chart_type: str):\n",
    "    store = InMemoryStore()\n",
    "    store.mset([('chart_type', chart_type)])\n",
    "    for step in graph.stream({\"question\": question}, stream_mode=\"updates\"):\n",
    "        print(step)"
   ]
  },
  {
   "cell_type": "code",
   "execution_count": 172,
   "metadata": {},
   "outputs": [
    {
     "name": "stdout",
     "output_type": "stream",
     "text": [
      "{'write_query': {'query': \"SELECT neighbourhood, AVG(price) as average_price \\nFROM read_csv_auto('data/AB_NYC_2019.csv') \\nGROUP BY neighbourhood \\nORDER BY average_price DESC \\nLIMIT 10;\"}}\n",
      "{'execute_query': {'result': [Document(metadata={}, page_content='neighbourhood: Fort Wadsworth\\naverage_price: 800.0'), Document(metadata={}, page_content='neighbourhood: Woodrow\\naverage_price: 700.0'), Document(metadata={}, page_content='neighbourhood: Tribeca\\naverage_price: 490.638418079096'), Document(metadata={}, page_content='neighbourhood: Sea Gate\\naverage_price: 487.85714285714283'), Document(metadata={}, page_content='neighbourhood: Riverdale\\naverage_price: 442.09090909090907'), Document(metadata={}, page_content=\"neighbourhood: Prince's Bay\\naverage_price: 409.5\"), Document(metadata={}, page_content='neighbourhood: Battery Park City\\naverage_price: 367.5571428571429'), Document(metadata={}, page_content='neighbourhood: Flatiron District\\naverage_price: 341.925'), Document(metadata={}, page_content='neighbourhood: Randall Manor\\naverage_price: 336.0'), Document(metadata={}, page_content='neighbourhood: NoHo\\naverage_price: 295.71794871794873')]}}\n",
      "{'generate_answer': {'answer': \"Based on the dataset about New York Airbnb, the average prices for each neighbourhood, ranked in descending order, are as follows:\\n\\n1. **Fort Wadsworth**: $800.00\\n2. **Woodrow**: $700.00\\n3. **Tribeca**: $490.64\\n4. **Sea Gate**: $487.86\\n5. **Riverdale**: $442.09\\n6. **Prince's Bay**: $409.50\\n7. **Battery Park City**: $367.56\\n8. **Flatiron District**: $341.93\\n9. **Randall Manor**: $336.00\\n10. **NoHo**: $295.72\"}}\n",
      "{'write_code_for_chart': {'code': '```python\\nimport matplotlib.pyplot as plt\\nimport seaborn as sns\\n\\n# Data from the SQL result\\ndata = {\\n    \\'neighbourhood\\': [\\n        \\'Fort Wadsworth\\', \\'Woodrow\\', \\'Tribeca\\', \\'Sea Gate\\', \\n        \\'Riverdale\\', \"Prince\\'s Bay\", \\'Battery Park City\\', \\n        \\'Flatiron District\\', \\'Randall Manor\\', \\'NoHo\\'\\n    ],\\n    \\'average_price\\': [\\n        800.0, 700.0, 490.638418079096, 487.85714285714283, \\n        442.09090909090907, 409.5, 367.5571428571429, \\n        341.925, 336.0, 295.71794871794873\\n    ]\\n}\\n\\n# Create a pie chart\\nplt.figure(figsize=(10, 7))\\nsns.set_theme(style=\"whitegrid\")\\n\\nplt.pie(data[\\'average_price\\'], labels=data[\\'neighbourhood\\'], autopct=\\'%1.1f%%\\', startangle=140)\\n\\n# Title and display\\nplt.title(\\'Average Airbnb Price by Neighbourhood in New York (Top 10)\\')\\nplt.axis(\\'equal\\')  # Equal aspect ratio ensures that pie is drawn as a circle.\\nplt.show()\\n```'}}\n"
     ]
    },
    {
     "data": {
      "image/png": "[encoded data removed]",
      "text/plain": [
       "<Figure size 1000x700 with 1 Axes>"
      ]
     },
     "metadata": {},
     "output_type": "display_data"
    },
    {
     "name": "stdout",
     "output_type": "stream",
     "text": [
      "{'execute_python_code': None}\n"
     ]
    }
   ],
   "source": [
    "question = \"This is a dataset about New York Airbnb, can you provide average price for each neighbourhood and rank them in descending order? \"\n",
    "chart_type = 'pie'\n",
    "llm_chart(question, chart_type)"
   ]
  },
  {
   "cell_type": "code",
   "execution_count": 26,
   "metadata": {},
   "outputs": [
    {
     "name": "stdout",
     "output_type": "stream",
     "text": [
      "{'write_query': {'query': \"SELECT host_id, host_name, latitude, longitude FROM read_csv_auto('data/AB_NYC_2019.csv') LIMIT 10\"}}\n",
      "{'execute_query': {'result': [Document(metadata={}, page_content='host_id: 2787\\nhost_name: John\\nlatitude: 40.64749\\nlongitude: -73.97237'), Document(metadata={}, page_content='host_id: 2845\\nhost_name: Jennifer\\nlatitude: 40.75362\\nlongitude: -73.98377'), Document(metadata={}, page_content='host_id: 4632\\nhost_name: Elisabeth\\nlatitude: 40.80902\\nlongitude: -73.9419'), Document(metadata={}, page_content='host_id: 4869\\nhost_name: LisaRoxanne\\nlatitude: 40.68514\\nlongitude: -73.95976'), Document(metadata={}, page_content='host_id: 7192\\nhost_name: Laura\\nlatitude: 40.79851\\nlongitude: -73.94399'), Document(metadata={}, page_content='host_id: 7322\\nhost_name: Chris\\nlatitude: 40.74767\\nlongitude: -73.975'), Document(metadata={}, page_content='host_id: 7356\\nhost_name: Garon\\nlatitude: 40.68688\\nlongitude: -73.95596'), Document(metadata={}, page_content='host_id: 8967\\nhost_name: Shunichi\\nlatitude: 40.76489\\nlongitude: -73.98493'), Document(metadata={}, page_content='host_id: 7490\\nhost_name: MaryEllen\\nlatitude: 40.80178\\nlongitude: -73.96723'), Document(metadata={}, page_content='host_id: 7549\\nhost_name: Ben\\nlatitude: 40.71344\\nlongitude: -73.99037')]}}\n",
      "{'generate_answer': {'answer': 'Here are the hosts by latitude and longitude from the New York Airbnb dataset:\\n\\n1. Host ID: 2787, Host Name: John, Latitude: 40.64749, Longitude: -73.97237\\n2. Host ID: 2845, Host Name: Jennifer, Latitude: 40.75362, Longitude: -73.98377\\n3. Host ID: 4632, Host Name: Elisabeth, Latitude: 40.80902, Longitude: -73.9419\\n4. Host ID: 4869, Host Name: LisaRoxanne, Latitude: 40.68514, Longitude: -73.95976\\n5. Host ID: 7192, Host Name: Laura, Latitude: 40.79851, Longitude: -73.94399\\n6. Host ID: 7322, Host Name: Chris, Latitude: 40.74767, Longitude: -73.975\\n7. Host ID: 7356, Host Name: Garon, Latitude: 40.68688, Longitude: -73.95596\\n8. Host ID: 8967, Host Name: Shunichi, Latitude: 40.76489, Longitude: -73.98493\\n9. Host ID: 7490, Host Name: MaryEllen, Latitude: 40.80178, Longitude: -73.96723\\n10. Host ID: 7549, Host Name: Ben, Latitude: 40.71344, Longitude: -73.99037'}}\n",
      "{'write_code_for_chart': {'code': '```python\\nimport plotly.express as px\\nimport pandas as pd\\n\\n# Creating a DataFrame from SQL result\\ndata = {\\n    \"host_id\": [2787, 2845, 4632, 4869, 7192, 7322, 7356, 8967, 7490, 7549],\\n    \"host_name\": [\"John\", \"Jennifer\", \"Elisabeth\", \"LisaRoxanne\", \"Laura\", \"Chris\", \"Garon\", \"Shunichi\", \"MaryEllen\", \"Ben\"],\\n    \"latitude\": [40.64749, 40.75362, 40.80902, 40.68514, 40.79851, 40.74767, 40.68688, 40.76489, 40.80178, 40.71344],\\n    \"longitude\": [-73.97237, -73.98377, -73.9419, -73.95976, -73.94399, -73.975, -73.95596, -73.98493, -73.96723, -73.99037],\\n}\\n\\ndf = pd.DataFrame(data)\\n\\n# Plotting the data using Plotly\\nfig = px.scatter_mapbox(df, \\n                        lat=\"latitude\", \\n                        lon=\"longitude\", \\n                        hover_name=\"host_name\", \\n                        hover_data=[\"host_id\"],\\n                        zoom=10, \\n                        height=600)\\n\\nfig.update_layout(mapbox_style=\"open-street-map\")\\nfig.update_layout(margin={\"r\":0,\"t\":0,\"l\":0,\"b\":0})\\nfig.show()\\n```'}}\n"
     ]
    },
    {
     "data": {
      "application/vnd.plotly.v1+json": {
       "config": {
        "plotlyServerURL": "https://plot.ly"
       },
       "data": [
        {
         "customdata": [
          [
           2787
          ],
          [
           2845
          ],
          [
           4632
          ],
          [
           4869
          ],
          [
           7192
          ],
          [
           7322
          ],
          [
           7356
          ],
          [
           8967
          ],
          [
           7490
          ],
          [
           7549
          ]
         ],
         "hovertemplate": "<b>%{hovertext}</b><br><br>latitude=%{lat}<br>longitude=%{lon}<br>host_id=%{customdata[0]}<extra></extra>",
         "hovertext": [
          "John",
          "Jennifer",
          "Elisabeth",
          "LisaRoxanne",
          "Laura",
          "Chris",
          "Garon",
          "Shunichi",
          "MaryEllen",
          "Ben"
         ],
         "lat": [
          40.64749,
          40.75362,
          40.80902,
          40.68514,
          40.79851,
          40.74767,
          40.68688,
          40.76489,
          40.80178,
          40.71344
         ],
         "legendgroup": "",
         "lon": [
          -73.97237,
          -73.98377,
          -73.9419,
          -73.95976,
          -73.94399,
          -73.975,
          -73.95596,
          -73.98493,
          -73.96723,
          -73.99037
         ],
         "marker": {
          "color": "#636efa"
         },
         "mode": "markers",
         "name": "",
         "showlegend": false,
         "subplot": "mapbox",
         "type": "scattermapbox"
        }
       ],
       "layout": {
        "height": 600,
        "legend": {
         "tracegroupgap": 0
        },
        "mapbox": {
         "center": {
          "lat": 40.740843999999996,
          "lon": -73.96752799999999
         },
         "domain": {
          "x": [
           0,
           1
          ],
          "y": [
           0,
           1
          ]
         },
         "style": "open-street-map",
         "zoom": 10
        },
        "margin": {
         "b": 0,
         "l": 0,
         "r": 0,
         "t": 0
        },
        "template": {
         "data": {
          "bar": [
           {
            "error_x": {
             "color": "#2a3f5f"
            },
            "error_y": {
             "color": "#2a3f5f"
            },
            "marker": {
             "line": {
              "color": "#E5ECF6",
              "width": 0.5
             },
             "pattern": {
              "fillmode": "overlay",
              "size": 10,
              "solidity": 0.2
             }
            },
            "type": "bar"
           }
          ],
          "barpolar": [
           {
            "marker": {
             "line": {
              "color": "#E5ECF6",
              "width": 0.5
             },
             "pattern": {
              "fillmode": "overlay",
              "size": 10,
              "solidity": 0.2
             }
            },
            "type": "barpolar"
           }
          ],
          "carpet": [
           {
            "aaxis": {
             "endlinecolor": "#2a3f5f",
             "gridcolor": "white",
             "linecolor": "white",
             "minorgridcolor": "white",
             "startlinecolor": "#2a3f5f"
            },
            "baxis": {
             "endlinecolor": "#2a3f5f",
             "gridcolor": "white",
             "linecolor": "white",
             "minorgridcolor": "white",
             "startlinecolor": "#2a3f5f"
            },
            "type": "carpet"
           }
          ],
          "choropleth": [
           {
            "colorbar": {
             "outlinewidth": 0,
             "ticks": ""
            },
            "type": "choropleth"
           }
          ],
          "contour": [
           {
            "colorbar": {
             "outlinewidth": 0,
             "ticks": ""
            },
            "colorscale": [
             [
              0,
              "#0d0887"
             ],
             [
              0.1111111111111111,
              "#46039f"
             ],
             [
              0.2222222222222222,
              "#7201a8"
             ],
             [
              0.3333333333333333,
              "#9c179e"
             ],
             [
              0.4444444444444444,
              "#bd3786"
             ],
             [
              0.5555555555555556,
              "#d8576b"
             ],
             [
              0.6666666666666666,
              "#ed7953"
             ],
             [
              0.7777777777777778,
              "#fb9f3a"
             ],
             [
              0.8888888888888888,
              "#fdca26"
             ],
             [
              1,
              "#f0f921"
             ]
            ],
            "type": "contour"
           }
          ],
          "contourcarpet": [
           {
            "colorbar": {
             "outlinewidth": 0,
             "ticks": ""
            },
            "type": "contourcarpet"
           }
          ],
          "heatmap": [
           {
            "colorbar": {
             "outlinewidth": 0,
             "ticks": ""
            },
            "colorscale": [
             [
              0,
              "#0d0887"
             ],
             [
              0.1111111111111111,
              "#46039f"
             ],
             [
              0.2222222222222222,
              "#7201a8"
             ],
             [
              0.3333333333333333,
              "#9c179e"
             ],
             [
              0.4444444444444444,
              "#bd3786"
             ],
             [
              0.5555555555555556,
              "#d8576b"
             ],
             [
              0.6666666666666666,
              "#ed7953"
             ],
             [
              0.7777777777777778,
              "#fb9f3a"
             ],
             [
              0.8888888888888888,
              "#fdca26"
             ],
             [
              1,
              "#f0f921"
             ]
            ],
            "type": "heatmap"
           }
          ],
          "heatmapgl": [
           {
            "colorbar": {
             "outlinewidth": 0,
             "ticks": ""
            },
            "colorscale": [
             [
              0,
              "#0d0887"
             ],
             [
              0.1111111111111111,
              "#46039f"
             ],
             [
              0.2222222222222222,
              "#7201a8"
             ],
             [
              0.3333333333333333,
              "#9c179e"
             ],
             [
              0.4444444444444444,
              "#bd3786"
             ],
             [
              0.5555555555555556,
              "#d8576b"
             ],
             [
              0.6666666666666666,
              "#ed7953"
             ],
             [
              0.7777777777777778,
              "#fb9f3a"
             ],
             [
              0.8888888888888888,
              "#fdca26"
             ],
             [
              1,
              "#f0f921"
             ]
            ],
            "type": "heatmapgl"
           }
          ],
          "histogram": [
           {
            "marker": {
             "pattern": {
              "fillmode": "overlay",
              "size": 10,
              "solidity": 0.2
             }
            },
            "type": "histogram"
           }
          ],
          "histogram2d": [
           {
            "colorbar": {
             "outlinewidth": 0,
             "ticks": ""
            },
            "colorscale": [
             [
              0,
              "#0d0887"
             ],
             [
              0.1111111111111111,
              "#46039f"
             ],
             [
              0.2222222222222222,
              "#7201a8"
             ],
             [
              0.3333333333333333,
              "#9c179e"
             ],
             [
              0.4444444444444444,
              "#bd3786"
             ],
             [
              0.5555555555555556,
              "#d8576b"
             ],
             [
              0.6666666666666666,
              "#ed7953"
             ],
             [
              0.7777777777777778,
              "#fb9f3a"
             ],
             [
              0.8888888888888888,
              "#fdca26"
             ],
             [
              1,
              "#f0f921"
             ]
            ],
            "type": "histogram2d"
           }
          ],
          "histogram2dcontour": [
           {
            "colorbar": {
             "outlinewidth": 0,
             "ticks": ""
            },
            "colorscale": [
             [
              0,
              "#0d0887"
             ],
             [
              0.1111111111111111,
              "#46039f"
             ],
             [
              0.2222222222222222,
              "#7201a8"
             ],
             [
              0.3333333333333333,
              "#9c179e"
             ],
             [
              0.4444444444444444,
              "#bd3786"
             ],
             [
              0.5555555555555556,
              "#d8576b"
             ],
             [
              0.6666666666666666,
              "#ed7953"
             ],
             [
              0.7777777777777778,
              "#fb9f3a"
             ],
             [
              0.8888888888888888,
              "#fdca26"
             ],
             [
              1,
              "#f0f921"
             ]
            ],
            "type": "histogram2dcontour"
           }
          ],
          "mesh3d": [
           {
            "colorbar": {
             "outlinewidth": 0,
             "ticks": ""
            },
            "type": "mesh3d"
           }
          ],
          "parcoords": [
           {
            "line": {
             "colorbar": {
              "outlinewidth": 0,
              "ticks": ""
             }
            },
            "type": "parcoords"
           }
          ],
          "pie": [
           {
            "automargin": true,
            "type": "pie"
           }
          ],
          "scatter": [
           {
            "fillpattern": {
             "fillmode": "overlay",
             "size": 10,
             "solidity": 0.2
            },
            "type": "scatter"
           }
          ],
          "scatter3d": [
           {
            "line": {
             "colorbar": {
              "outlinewidth": 0,
              "ticks": ""
             }
            },
            "marker": {
             "colorbar": {
              "outlinewidth": 0,
              "ticks": ""
             }
            },
            "type": "scatter3d"
           }
          ],
          "scattercarpet": [
           {
            "marker": {
             "colorbar": {
              "outlinewidth": 0,
              "ticks": ""
             }
            },
            "type": "scattercarpet"
           }
          ],
          "scattergeo": [
           {
            "marker": {
             "colorbar": {
              "outlinewidth": 0,
              "ticks": ""
             }
            },
            "type": "scattergeo"
           }
          ],
          "scattergl": [
           {
            "marker": {
             "colorbar": {
              "outlinewidth": 0,
              "ticks": ""
             }
            },
            "type": "scattergl"
           }
          ],
          "scattermapbox": [
           {
            "marker": {
             "colorbar": {
              "outlinewidth": 0,
              "ticks": ""
             }
            },
            "type": "scattermapbox"
           }
          ],
          "scatterpolar": [
           {
            "marker": {
             "colorbar": {
              "outlinewidth": 0,
              "ticks": ""
             }
            },
            "type": "scatterpolar"
           }
          ],
          "scatterpolargl": [
           {
            "marker": {
             "colorbar": {
              "outlinewidth": 0,
              "ticks": ""
             }
            },
            "type": "scatterpolargl"
           }
          ],
          "scatterternary": [
           {
            "marker": {
             "colorbar": {
              "outlinewidth": 0,
              "ticks": ""
             }
            },
            "type": "scatterternary"
           }
          ],
          "surface": [
           {
            "colorbar": {
             "outlinewidth": 0,
             "ticks": ""
            },
            "colorscale": [
             [
              0,
              "#0d0887"
             ],
             [
              0.1111111111111111,
              "#46039f"
             ],
             [
              0.2222222222222222,
              "#7201a8"
             ],
             [
              0.3333333333333333,
              "#9c179e"
             ],
             [
              0.4444444444444444,
              "#bd3786"
             ],
             [
              0.5555555555555556,
              "#d8576b"
             ],
             [
              0.6666666666666666,
              "#ed7953"
             ],
             [
              0.7777777777777778,
              "#fb9f3a"
             ],
             [
              0.8888888888888888,
              "#fdca26"
             ],
             [
              1,
              "#f0f921"
             ]
            ],
            "type": "surface"
           }
          ],
          "table": [
           {
            "cells": {
             "fill": {
              "color": "#EBF0F8"
             },
             "line": {
              "color": "white"
             }
            },
            "header": {
             "fill": {
              "color": "#C8D4E3"
             },
             "line": {
              "color": "white"
             }
            },
            "type": "table"
           }
          ]
         },
         "layout": {
          "annotationdefaults": {
           "arrowcolor": "#2a3f5f",
           "arrowhead": 0,
           "arrowwidth": 1
          },
          "autotypenumbers": "strict",
          "coloraxis": {
           "colorbar": {
            "outlinewidth": 0,
            "ticks": ""
           }
          },
          "colorscale": {
           "diverging": [
            [
             0,
             "#8e0152"
            ],
            [
             0.1,
             "#c51b7d"
            ],
            [
             0.2,
             "#de77ae"
            ],
            [
             0.3,
             "#f1b6da"
            ],
            [
             0.4,
             "#fde0ef"
            ],
            [
             0.5,
             "#f7f7f7"
            ],
            [
             0.6,
             "#e6f5d0"
            ],
            [
             0.7,
             "#b8e186"
            ],
            [
             0.8,
             "#7fbc41"
            ],
            [
             0.9,
             "#4d9221"
            ],
            [
             1,
             "#276419"
            ]
           ],
           "sequential": [
            [
             0,
             "#0d0887"
            ],
            [
             0.1111111111111111,
             "#46039f"
            ],
            [
             0.2222222222222222,
             "#7201a8"
            ],
            [
             0.3333333333333333,
             "#9c179e"
            ],
            [
             0.4444444444444444,
             "#bd3786"
            ],
            [
             0.5555555555555556,
             "#d8576b"
            ],
            [
             0.6666666666666666,
             "#ed7953"
            ],
            [
             0.7777777777777778,
             "#fb9f3a"
            ],
            [
             0.8888888888888888,
             "#fdca26"
            ],
            [
             1,
             "#f0f921"
            ]
           ],
           "sequentialminus": [
            [
             0,
             "#0d0887"
            ],
            [
             0.1111111111111111,
             "#46039f"
            ],
            [
             0.2222222222222222,
             "#7201a8"
            ],
            [
             0.3333333333333333,
             "#9c179e"
            ],
            [
             0.4444444444444444,
             "#bd3786"
            ],
            [
             0.5555555555555556,
             "#d8576b"
            ],
            [
             0.6666666666666666,
             "#ed7953"
            ],
            [
             0.7777777777777778,
             "#fb9f3a"
            ],
            [
             0.8888888888888888,
             "#fdca26"
            ],
            [
             1,
             "#f0f921"
            ]
           ]
          },
          "colorway": [
           "#636efa",
           "#EF553B",
           "#00cc96",
           "#ab63fa",
           "#FFA15A",
           "#19d3f3",
           "#FF6692",
           "#B6E880",
           "#FF97FF",
           "#FECB52"
          ],
          "font": {
           "color": "#2a3f5f"
          },
          "geo": {
           "bgcolor": "white",
           "lakecolor": "white",
           "landcolor": "#E5ECF6",
           "showlakes": true,
           "showland": true,
           "subunitcolor": "white"
          },
          "hoverlabel": {
           "align": "left"
          },
          "hovermode": "closest",
          "mapbox": {
           "style": "light"
          },
          "paper_bgcolor": "white",
          "plot_bgcolor": "#E5ECF6",
          "polar": {
           "angularaxis": {
            "gridcolor": "white",
            "linecolor": "white",
            "ticks": ""
           },
           "bgcolor": "#E5ECF6",
           "radialaxis": {
            "gridcolor": "white",
            "linecolor": "white",
            "ticks": ""
           }
          },
          "scene": {
           "xaxis": {
            "backgroundcolor": "#E5ECF6",
            "gridcolor": "white",
            "gridwidth": 2,
            "linecolor": "white",
            "showbackground": true,
            "ticks": "",
            "zerolinecolor": "white"
           },
           "yaxis": {
            "backgroundcolor": "#E5ECF6",
            "gridcolor": "white",
            "gridwidth": 2,
            "linecolor": "white",
            "showbackground": true,
            "ticks": "",
            "zerolinecolor": "white"
           },
           "zaxis": {
            "backgroundcolor": "#E5ECF6",
            "gridcolor": "white",
            "gridwidth": 2,
            "linecolor": "white",
            "showbackground": true,
            "ticks": "",
            "zerolinecolor": "white"
           }
          },
          "shapedefaults": {
           "line": {
            "color": "#2a3f5f"
           }
          },
          "ternary": {
           "aaxis": {
            "gridcolor": "white",
            "linecolor": "white",
            "ticks": ""
           },
           "baxis": {
            "gridcolor": "white",
            "linecolor": "white",
            "ticks": ""
           },
           "bgcolor": "#E5ECF6",
           "caxis": {
            "gridcolor": "white",
            "linecolor": "white",
            "ticks": ""
           }
          },
          "title": {
           "x": 0.05
          },
          "xaxis": {
           "automargin": true,
           "gridcolor": "white",
           "linecolor": "white",
           "ticks": "",
           "title": {
            "standoff": 15
           },
           "zerolinecolor": "white",
           "zerolinewidth": 2
          },
          "yaxis": {
           "automargin": true,
           "gridcolor": "white",
           "linecolor": "white",
           "ticks": "",
           "title": {
            "standoff": 15
           },
           "zerolinecolor": "white",
           "zerolinewidth": 2
          }
         }
        }
       }
      }
     },
     "metadata": {},
     "output_type": "display_data"
    },
    {
     "name": "stdout",
     "output_type": "stream",
     "text": [
      "{'execute_python_code': None}\n"
     ]
    }
   ],
   "source": [
    "question = \"This is a dataset about New York Airbnb, can you show all the host by latitude and longitude\"\n",
    "chart_type = 'map'\n",
    "llm_chart(question, chart_type)"
   ]
  },
  {
   "cell_type": "code",
   "execution_count": null,
   "metadata": {},
   "outputs": [
    {
     "name": "stdout",
     "output_type": "stream",
     "text": [
      "None\n"
     ]
    }
   ],
   "source": []
  }
 ],
 "metadata": {
  "kernelspec": {
   "display_name": "3.12.7",
   "language": "python",
   "name": "python3"
  },
  "language_info": {
   "codemirror_mode": {
    "name": "ipython",
    "version": 3
   },
   "file_extension": ".py",
   "mimetype": "text/x-python",
   "name": "python",
   "nbconvert_exporter": "python",
   "pygments_lexer": "ipython3",
   "version": "3.12.7"
  }
 },
 "nbformat": 4,
 "nbformat_minor": 2
}
